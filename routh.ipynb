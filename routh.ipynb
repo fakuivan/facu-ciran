{
 "cells": [
  {
   "cell_type": "code",
   "execution_count": 2,
   "metadata": {},
   "outputs": [],
   "source": [
    "from utils import counter_wrap\n",
    "from more_itertools import consume, pairwise\n",
    "from typing import Iterable\n",
    "from sympy import Basic\n",
    "\n",
    "def routh_row(i_minus_2: Iterable[Basic],\n",
    "              i_minus_1: Iterable[Basic]) -> \\\n",
    "        Iterable[Basic]:\n",
    "    \"Computes the next row for a Routh matrix\"\n",
    "    pp_iter, pp_counter = counter_wrap(i_minus_2)\n",
    "    p_iter, p_counter = counter_wrap(i_minus_1)\n",
    "\n",
    "    for (a0, a2), (a1, a3) in zip(\n",
    "            pairwise(pp_iter), pairwise(p_iter)):\n",
    "        yield (a1*a2 - a0*a3)/a1\n",
    "    consume(map(consume, (pp_iter, p_iter)))\n",
    "    if not 0 <= pp_counter() - p_counter() <= 1:\n",
    "        raise ValueError(\n",
    "            \"pp row should be at most one item \"\n",
    "            \"larger than p row and at least equal in size\")"
   ]
  },
  {
   "cell_type": "code",
   "execution_count": null,
   "metadata": {},
   "outputs": [],
   "source": []
  }
 ],
 "metadata": {
  "language_info": {
   "codemirror_mode": {
    "name": "ipython",
    "version": 3
   },
   "file_extension": ".py",
   "mimetype": "text/x-python",
   "name": "python",
   "nbconvert_exporter": "python",
   "pygments_lexer": "ipython3",
   "version": "3.8.2-final"
  },
  "orig_nbformat": 2,
  "kernelspec": {
   "name": "python38264bit12d9a4114b3e4b5084767bfb1d8ea7ac",
   "display_name": "Python 3.8.2 64-bit"
  }
 },
 "nbformat": 4,
 "nbformat_minor": 2
}