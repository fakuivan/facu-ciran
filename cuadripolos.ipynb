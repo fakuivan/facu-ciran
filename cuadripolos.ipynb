{
 "cells": [
  {
   "cell_type": "code",
   "execution_count": 1,
   "metadata": {},
   "outputs": [],
   "source": [
    "from sympy import Matrix, solve, Symbol, re, sqrt, Eq, MatrixSymbol as MSymbol\n",
    "from IPython.display import display\n",
    "R = Symbol(\"R\", positive=True, real=True)"
   ]
  },
  {
   "cell_type": "code",
   "execution_count": 2,
   "metadata": {},
   "outputs": [
    {
     "output_type": "display_data",
     "data": {
      "text/plain": "Eq(Y_t, Matrix([\n[ 4/(3*R), -2/(3*R)],\n[-2/(3*R),  4/(3*R)]]))",
      "text/latex": "$\\displaystyle Y_{t} = \\left[\\begin{matrix}\\frac{4}{3 R} & - \\frac{2}{3 R}\\\\- \\frac{2}{3 R} & \\frac{4}{3 R}\\end{matrix}\\right]$"
     },
     "metadata": {}
    }
   ],
   "source": [
    "Yt = Matrix([\n",
    "    [2, 1],\n",
    "    [1, 2]\n",
    "]).inv()/R*2\n",
    "display(Eq(MSymbol(\"Y_t\", 2, 2), Yt))"
   ]
  },
  {
   "cell_type": "code",
   "execution_count": 3,
   "metadata": {},
   "outputs": [
    {
     "output_type": "display_data",
     "data": {
      "text/plain": "Eq(gamma, Matrix([\n[  2, 3*R/2],\n[2/R,     2]]))",
      "text/latex": "$\\displaystyle \\gamma = \\left[\\begin{matrix}2 & \\frac{3 R}{2}\\\\\\frac{2}{R} & 2\\end{matrix}\\right]$"
     },
     "metadata": {}
    }
   ],
   "source": [
    "gamma = Matrix([\n",
    "    [Yt[1,1],  1],\n",
    "    [Yt.det(), Yt[0,0]]\n",
    "])*-1/(Yt[1,0])\n",
    "display(Eq(MSymbol(\"gamma\", 2, 2), gamma))"
   ]
  },
  {
   "cell_type": "code",
   "execution_count": 4,
   "metadata": {},
   "outputs": [
    {
     "output_type": "display_data",
     "data": {
      "text/plain": "(2, 3*R/2, 2/R, 2)"
     },
     "metadata": {}
    }
   ],
   "source": [
    "A, B, C, D = gamma\n",
    "display((A, B, C, D))"
   ]
  },
  {
   "cell_type": "code",
   "execution_count": 5,
   "metadata": {},
   "outputs": [
    {
     "output_type": "display_data",
     "data": {
      "text/plain": "Eq(Z_i2, sqrt(3)*R/2)",
      "text/latex": "$\\displaystyle Z_{i2} = \\frac{\\sqrt{3} R}{2}$"
     },
     "metadata": {}
    }
   ],
   "source": [
    "Zi2 = Symbol(\"Z_i2\")\n",
    "Zi2 = solve(C*Zi2**2+(A-D)*Zi2-B, Zi2)\n",
    "display(Eq(Symbol(\"Z_i2\"), *filter(lambda x: re(x) > 0, Zi2)))"
   ]
  },
  {
   "cell_type": "code",
   "execution_count": 6,
   "metadata": {},
   "outputs": [
    {
     "output_type": "display_data",
     "data": {
      "text/plain": "Eq(Z_01, sqrt(3)*R/2)",
      "text/latex": "$\\displaystyle Z_{01} = \\frac{\\sqrt{3} R}{2}$"
     },
     "metadata": {}
    },
    {
     "output_type": "display_data",
     "data": {
      "text/plain": "Eq(Z_02, sqrt(3)*R/2)",
      "text/latex": "$\\displaystyle Z_{02} = \\frac{\\sqrt{3} R}{2}$"
     },
     "metadata": {}
    }
   ],
   "source": [
    "Z01 = sqrt((A*B)/(C*D))\n",
    "Z02 = sqrt((B*D)/(A*C))\n",
    "display(Eq(Symbol(\"Z_01\") ,Z01), Eq(Symbol(\"Z_02\") ,Z02))"
   ]
  }
 ],
 "metadata": {
  "language_info": {
   "codemirror_mode": {
    "name": "ipython",
    "version": 3
   },
   "file_extension": ".py",
   "mimetype": "text/x-python",
   "name": "python",
   "nbconvert_exporter": "python",
   "pygments_lexer": "ipython3",
   "version": "3.8.1-final"
  },
  "orig_nbformat": 2,
  "kernelspec": {
   "name": "python38164bit6787c890cc544958b8023ebdfd490516",
   "display_name": "Python 3.8.1 64-bit"
  }
 },
 "nbformat": 4,
 "nbformat_minor": 2
}